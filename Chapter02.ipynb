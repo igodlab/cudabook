{
 "cells": [
  {
   "cell_type": "markdown",
   "id": "89def4f7-386c-404c-b5b7-0747cd85da75",
   "metadata": {},
   "source": [
    "# 2 Heterogeneous data parallel computing\n",
    "\n",
    "- *Data parallelism* - refers to the phenomenon in which different parts of the dataset can be computed independently"
   ]
  },
  {
   "cell_type": "markdown",
   "id": "f830bdf9-7952-4861-b435-1337d6feff98",
   "metadata": {},
   "source": [
    "## 2.1 Data parallelism\n",
    "\n",
    "- We'll work alongside an example to elaborate on this topic. Lets consider image manipulation, where we handle millions to trillions of pixels\n",
    "    - eg. to convert a colored image to grayscale we need to compute the luminosity to the three channel matrices: $L=0.21r+0.72g+0.07b$\n",
    "- <div class=\"alert alert-block alert-info\"><b>Task Parallelism vs Data Parallelism</b> Both non-mutually exclusive concepts can be parallelized at the same time. </div> "
   ]
  }
 ],
 "metadata": {
  "kernelspec": {
   "display_name": "Python 3 (ipykernel)",
   "language": "python",
   "name": "python3"
  },
  "language_info": {
   "codemirror_mode": {
    "name": "ipython",
    "version": 3
   },
   "file_extension": ".py",
   "mimetype": "text/x-python",
   "name": "python",
   "nbconvert_exporter": "python",
   "pygments_lexer": "ipython3",
   "version": "3.13.5"
  }
 },
 "nbformat": 4,
 "nbformat_minor": 5
}
