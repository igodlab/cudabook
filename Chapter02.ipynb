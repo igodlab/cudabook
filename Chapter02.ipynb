{
 "cells": [
  {
   "cell_type": "markdown",
   "id": "89def4f7-386c-404c-b5b7-0747cd85da75",
   "metadata": {},
   "source": [
    "# 2 Heterogeneous data parallel computing\n",
    "\n",
    "- *Data parallelism* - refers to the phenomenon in which different parts of the dataset can be computed independently"
   ]
  },
  {
   "cell_type": "markdown",
   "id": "f830bdf9-7952-4861-b435-1337d6feff98",
   "metadata": {},
   "source": [
    "## 2.1 Data parallelism\n",
    "\n",
    "- We'll work alongside an example to elaborate on this topic. Lets consider image manipulation, where we handle millions to trillions of pixels\n",
    "    - eg. to convert a colored image to grayscale we need to compute the luminosity to the three channel matrices: $L=0.21r+0.72g+0.07b$, for all $N-1$ pixels: $O[0]=L(I[0](r,g,b)),\\ldots, O[N-1]=L(I[N-1](r,g,b))$\n",
    "- <div class=\"alert alert-info\"><b>Task Parallelism vs Data Parallelism</b> - in general, the former is the main source of scalability but not the only type of paralellism. The latter also gives room for sqeezing parllelizable performance and a nice detail is the larger the application, the larger the independent tasks present </div>"
   ]
  },
  {
   "cell_type": "markdown",
   "id": "5e910bf9-2895-47c4-941c-466986c404f6",
   "metadata": {},
   "source": [
    "## 2.2 CUDA C program structure\n",
    "\n",
    "- CUDA C is NVIDIA's programming language that unlocks access to heterogeneous computing systems composed by CPU cores and massively parallel GPUs\n",
    "    - CUDA C extends ANSI C with minimal new syntax and libraries (plus some C++ features) to target heterogenous computing\n",
    "    - CUDA C's code structure reflects the structure of a *host* (CPU) and *devices* (GPUs) in a computer.\n",
    "- Fig.2.3 shows the simplified (CPU threads don't overlap w/ GPU threads) scheme of the execution of *grids* \n",
    "    - In the color-to-grayscale example each thread will be used to compute one output pixel, so we can expect $N-1$ threads to be generated and scheduled. These take very few clock cycles in contrast to CPU threads which take thousands of clock cycles to generate and schedule\n",
    "      \n",
    "<img src=\"images/ch022-cuda-program.png\" width=\"60%\">\n",
    "      \n",
    "- <div class=\"alert alert-info\"><b>Threads</b> - are a simplified view of how a processor executes a sequential program in a coputer. Contains the code of the program, the point in the code that is being executed and the values of its variables and data structures. Threads are sequential, even in CUDA programs, where a program initiates parallel execution by calling kernel functions which launches grids of execution (through its underlying runtime mechanisms)</div>"
   ]
  },
  {
   "cell_type": "markdown",
   "id": "3de87497-8f5a-45e1-896b-446f6f33e13d",
   "metadata": {},
   "source": [
    "## 2.3 A vector addition kernel\n",
    "\n",
    "- Lets walk through the \"Hello World\" equivalent example for sequential programming ie. vector addition, check Fig.2.4. *Notation.-* host variables will always have `_h` whereas variables used by the device will have `_d`\n",
    "      \n",
    "<img src=\"images/ch023-trad-vector-sum.png\" width=\"50%\">\n",
    "      \n",
    "- <div class=\"alert alert-info\"><b>Pointers in C lang</b> - regular (pointer) variables are declared as <code>float V</code> (<code>float *P</code>). We can make P access the value of V w/ <code>P=&V</code>. So the args for <code>vecAdd</code> are pointers that access the i-th element of <code>A_h, B-h, C_h</code></div>"
   ]
  },
  {
   "cell_type": "code",
   "execution_count": null,
   "id": "6e78eb30-58cb-460a-9b4a-f97f644b6cbf",
   "metadata": {},
   "outputs": [],
   "source": []
  }
 ],
 "metadata": {
  "kernelspec": {
   "display_name": "Python 3 (ipykernel)",
   "language": "python",
   "name": "python3"
  },
  "language_info": {
   "codemirror_mode": {
    "name": "ipython",
    "version": 3
   },
   "file_extension": ".py",
   "mimetype": "text/x-python",
   "name": "python",
   "nbconvert_exporter": "python",
   "pygments_lexer": "ipython3",
   "version": "3.12.9"
  }
 },
 "nbformat": 4,
 "nbformat_minor": 5
}
